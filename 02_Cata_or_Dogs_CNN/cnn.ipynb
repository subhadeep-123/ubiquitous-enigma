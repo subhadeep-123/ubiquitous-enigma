{
 "cells": [
  {
   "cell_type": "code",
   "execution_count": 16,
   "id": "cardiac-answer",
   "metadata": {},
   "outputs": [],
   "source": [
    "import os\n",
    "import glob\n",
    "import pickle\n",
    "import numpy as np\n",
    "import tensorflow as tf\n",
    "import matplotlib.pyplot as plt\n",
    "from keras.models import load_model\n",
    "from keras.preprocessing import image\n",
    "from keras.preprocessing.image import ImageDataGenerator"
   ]
  },
  {
   "cell_type": "code",
   "execution_count": 2,
   "id": "patent-pride",
   "metadata": {},
   "outputs": [
    {
     "data": {
      "text/plain": [
       "'2.4.1'"
      ]
     },
     "execution_count": 2,
     "metadata": {},
     "output_type": "execute_result"
    }
   ],
   "source": [
    "tf.__version__"
   ]
  },
  {
   "cell_type": "code",
   "execution_count": 3,
   "id": "expired-cuisine",
   "metadata": {},
   "outputs": [
    {
     "data": {
      "text/plain": [
       "['single_prediction', 'test_set', 'training_set']"
      ]
     },
     "execution_count": 3,
     "metadata": {},
     "output_type": "execute_result"
    }
   ],
   "source": [
    "os.listdir('dataset')"
   ]
  },
  {
   "cell_type": "code",
   "execution_count": 4,
   "id": "radical-being",
   "metadata": {},
   "outputs": [
    {
     "name": "stdout",
     "output_type": "stream",
     "text": [
      "Found 8000 images belonging to 2 classes.\n",
      "Found 2000 images belonging to 2 classes.\n"
     ]
    }
   ],
   "source": [
    "# Feature scaling is absolutely necessary for Neural Networks\n",
    "train_datagen = ImageDataGenerator(rescale = 1./255,\n",
    "                                   shear_range = 0.2,\n",
    "                                   zoom_range = 0.2,\n",
    "                                   horizontal_flip = True)\n",
    "training_set = train_datagen.flow_from_directory('dataset/training_set',\n",
    "                                                 target_size = (64, 64),\n",
    "                                                 batch_size = 32,\n",
    "                                                 class_mode = 'binary')\n",
    "test_datagen = ImageDataGenerator(rescale = 1./255)\n",
    "test_set = test_datagen.flow_from_directory('dataset/test_set',\n",
    "                                            target_size = (64, 64),\n",
    "                                            batch_size = 32,\n",
    "                                            class_mode = 'binary')"
   ]
  },
  {
   "cell_type": "code",
   "execution_count": 5,
   "id": "authorized-flight",
   "metadata": {},
   "outputs": [],
   "source": [
    "# Initialising the CNN\n",
    "cnn = tf.keras.models.Sequential()\n",
    "# Convolution Layer - 1\n",
    "cnn.add(tf.keras.layers.Conv2D(filters = 32, \n",
    "                               kernel_size = 3,\n",
    "                               activation = 'relu',\n",
    "                               input_shape = [64,64,3]))\n",
    "# MaxPooling Layer - 1\n",
    "cnn.add(tf.keras.layers.MaxPool2D(pool_size = 2,\n",
    "                                  strides = 2))\n",
    "# Convolution Layer - 2\n",
    "cnn.add(tf.keras.layers.Conv2D(filters = 32,\n",
    "                                kernel_size = 3,\n",
    "                                activation = 'relu'))\n",
    "# MaxPooling Layer - 2\n",
    "cnn.add(tf.keras.layers.MaxPool2D(pool_size = 2,\n",
    "                                  strides = 2))\n",
    "# Flattening Layer\n",
    "cnn.add(tf.keras.layers.Flatten())\n",
    "# Full Connection Layer - 1\n",
    "cnn.add(tf.keras.layers.Dense(units = 128,\n",
    "                              activation = 'relu'))\n",
    "# Full Connection Layer - 2\n",
    "cnn.add(tf.keras.layers.Dense(units = 1,\n",
    "                              activation = 'sigmoid'))\n",
    "# Compiling the Model\n",
    "cnn.compile(optimizer = 'adam',\n",
    "            loss = 'binary_crossentropy',\n",
    "            metrics = ['accuracy'])"
   ]
  },
  {
   "cell_type": "code",
   "execution_count": 7,
   "id": "occasional-vintage",
   "metadata": {},
   "outputs": [
    {
     "name": "stdout",
     "output_type": "stream",
     "text": [
      "Epoch 1/25\n",
      "250/250 [==============================] - 234s 915ms/step - loss: 0.6846 - accuracy: 0.5655 - val_loss: 0.6401 - val_accuracy: 0.6130\n",
      "Epoch 2/25\n",
      "250/250 [==============================] - 58s 234ms/step - loss: 0.6029 - accuracy: 0.6739 - val_loss: 0.5566 - val_accuracy: 0.7250\n",
      "Epoch 3/25\n",
      "250/250 [==============================] - 60s 240ms/step - loss: 0.5485 - accuracy: 0.7169 - val_loss: 0.5173 - val_accuracy: 0.7560\n",
      "Epoch 4/25\n",
      "250/250 [==============================] - 58s 232ms/step - loss: 0.5310 - accuracy: 0.7381 - val_loss: 0.5095 - val_accuracy: 0.7475\n",
      "Epoch 5/25\n",
      "250/250 [==============================] - 57s 230ms/step - loss: 0.5042 - accuracy: 0.7538 - val_loss: 0.5021 - val_accuracy: 0.7575\n",
      "Epoch 6/25\n",
      "250/250 [==============================] - 58s 231ms/step - loss: 0.4710 - accuracy: 0.7719 - val_loss: 0.5077 - val_accuracy: 0.7680\n",
      "Epoch 7/25\n",
      "250/250 [==============================] - 58s 232ms/step - loss: 0.4589 - accuracy: 0.7862 - val_loss: 0.4725 - val_accuracy: 0.7780\n",
      "Epoch 8/25\n",
      "250/250 [==============================] - 58s 233ms/step - loss: 0.4439 - accuracy: 0.7890 - val_loss: 0.4665 - val_accuracy: 0.7800\n",
      "Epoch 9/25\n",
      "250/250 [==============================] - 59s 235ms/step - loss: 0.4375 - accuracy: 0.7933 - val_loss: 0.4590 - val_accuracy: 0.7955\n",
      "Epoch 10/25\n",
      "250/250 [==============================] - 58s 232ms/step - loss: 0.4192 - accuracy: 0.8049 - val_loss: 0.5391 - val_accuracy: 0.7645\n",
      "Epoch 11/25\n",
      "250/250 [==============================] - 58s 233ms/step - loss: 0.4071 - accuracy: 0.8051 - val_loss: 0.4450 - val_accuracy: 0.7985\n",
      "Epoch 12/25\n",
      "250/250 [==============================] - 59s 234ms/step - loss: 0.3818 - accuracy: 0.8240 - val_loss: 0.5369 - val_accuracy: 0.7505\n",
      "Epoch 13/25\n",
      "250/250 [==============================] - 59s 237ms/step - loss: 0.3778 - accuracy: 0.8295 - val_loss: 0.4660 - val_accuracy: 0.7980\n",
      "Epoch 14/25\n",
      "250/250 [==============================] - 58s 232ms/step - loss: 0.3578 - accuracy: 0.8401 - val_loss: 0.4650 - val_accuracy: 0.8015\n",
      "Epoch 15/25\n",
      "250/250 [==============================] - 59s 234ms/step - loss: 0.3569 - accuracy: 0.8347 - val_loss: 0.4838 - val_accuracy: 0.7885\n",
      "Epoch 16/25\n",
      "250/250 [==============================] - 58s 233ms/step - loss: 0.3343 - accuracy: 0.8529 - val_loss: 0.5091 - val_accuracy: 0.7935\n",
      "Epoch 17/25\n",
      "250/250 [==============================] - 58s 234ms/step - loss: 0.3319 - accuracy: 0.8568 - val_loss: 0.4853 - val_accuracy: 0.8030\n",
      "Epoch 18/25\n",
      "250/250 [==============================] - 59s 234ms/step - loss: 0.3064 - accuracy: 0.8715 - val_loss: 0.5018 - val_accuracy: 0.7930\n",
      "Epoch 19/25\n",
      "250/250 [==============================] - 59s 234ms/step - loss: 0.3034 - accuracy: 0.8655 - val_loss: 0.4843 - val_accuracy: 0.8055\n",
      "Epoch 20/25\n",
      "250/250 [==============================] - 58s 232ms/step - loss: 0.2962 - accuracy: 0.8697 - val_loss: 0.4955 - val_accuracy: 0.8040\n",
      "Epoch 21/25\n",
      "250/250 [==============================] - 59s 235ms/step - loss: 0.2660 - accuracy: 0.8858 - val_loss: 0.5396 - val_accuracy: 0.8000\n",
      "Epoch 22/25\n",
      "250/250 [==============================] - 59s 235ms/step - loss: 0.2517 - accuracy: 0.8941 - val_loss: 0.4979 - val_accuracy: 0.8095\n",
      "Epoch 23/25\n",
      "250/250 [==============================] - 59s 236ms/step - loss: 0.2409 - accuracy: 0.9030 - val_loss: 0.5407 - val_accuracy: 0.7930\n",
      "Epoch 24/25\n",
      "250/250 [==============================] - 59s 235ms/step - loss: 0.2276 - accuracy: 0.9055 - val_loss: 0.5238 - val_accuracy: 0.8180\n",
      "Epoch 25/25\n",
      "250/250 [==============================] - 59s 234ms/step - loss: 0.2162 - accuracy: 0.9050 - val_loss: 0.5218 - val_accuracy: 0.8105\n"
     ]
    },
    {
     "data": {
      "text/plain": [
       "<tensorflow.python.keras.callbacks.History at 0x25c4c74bd00>"
      ]
     },
     "execution_count": 7,
     "metadata": {},
     "output_type": "execute_result"
    }
   ],
   "source": [
    "cnn.fit(x = training_set, \n",
    "        validation_data = test_set,\n",
    "        epochs = 25)"
   ]
  },
  {
   "cell_type": "code",
   "execution_count": 8,
   "id": "present-cheese",
   "metadata": {},
   "outputs": [
    {
     "name": "stdout",
     "output_type": "stream",
     "text": [
      "Model: \"sequential\"\n",
      "_________________________________________________________________\n",
      "Layer (type)                 Output Shape              Param #   \n",
      "=================================================================\n",
      "conv2d (Conv2D)              (None, 62, 62, 32)        896       \n",
      "_________________________________________________________________\n",
      "max_pooling2d (MaxPooling2D) (None, 31, 31, 32)        0         \n",
      "_________________________________________________________________\n",
      "conv2d_1 (Conv2D)            (None, 29, 29, 32)        9248      \n",
      "_________________________________________________________________\n",
      "max_pooling2d_1 (MaxPooling2 (None, 14, 14, 32)        0         \n",
      "_________________________________________________________________\n",
      "flatten (Flatten)            (None, 6272)              0         \n",
      "_________________________________________________________________\n",
      "dense (Dense)                (None, 128)               802944    \n",
      "_________________________________________________________________\n",
      "dense_1 (Dense)              (None, 1)                 129       \n",
      "=================================================================\n",
      "Total params: 813,217\n",
      "Trainable params: 813,217\n",
      "Non-trainable params: 0\n",
      "_________________________________________________________________\n",
      "None\n"
     ]
    }
   ],
   "source": [
    "print(cnn.summary())"
   ]
  },
  {
   "cell_type": "code",
   "execution_count": 10,
   "id": "valid-graph",
   "metadata": {},
   "outputs": [
    {
     "name": "stdout",
     "output_type": "stream",
     "text": [
      "dog\n"
     ]
    }
   ],
   "source": [
    "#Making the Prediction\n",
    "test_image = image.load_img('dataset/single_prediction/cat_or_dog_1.jpg', \n",
    "                             target_size = (64,64))\n",
    "test_image = image.img_to_array(test_image)\n",
    "test_image = np.expand_dims(test_image, axis = 0)\n",
    "result = cnn.predict(test_image)\n",
    "training_set.class_indices\n",
    "if result[0][0] == 1:\n",
    "  prediction = 'dog'\n",
    "else:\n",
    "  prediction = 'cat'\n",
    "print(prediction)"
   ]
  },
  {
   "cell_type": "code",
   "execution_count": 11,
   "id": "million-bottom",
   "metadata": {},
   "outputs": [
    {
     "name": "stdout",
     "output_type": "stream",
     "text": [
      "cat\n"
     ]
    }
   ],
   "source": [
    "#Making the Prediction\n",
    "test_image = image.load_img('dataset/single_prediction/cat_or_dog_2.jpg', \n",
    "                             target_size = (64,64))\n",
    "test_image = image.img_to_array(test_image)\n",
    "test_image = np.expand_dims(test_image, axis = 0)\n",
    "result = cnn.predict(test_image)\n",
    "training_set.class_indices\n",
    "if result[0][0] == 1:\n",
    "  prediction = 'dog'\n",
    "else:\n",
    "  prediction = 'cat'\n",
    "print(prediction)"
   ]
  },
  {
   "cell_type": "code",
   "execution_count": 15,
   "id": "atmospheric-crawford",
   "metadata": {},
   "outputs": [],
   "source": [
    "# Saving our Model\n",
    "cnn.save(\"cats_or_dogs.h5\")"
   ]
  }
 ],
 "metadata": {
  "kernelspec": {
   "display_name": "Python 3",
   "language": "python",
   "name": "python3"
  },
  "language_info": {
   "codemirror_mode": {
    "name": "ipython",
    "version": 3
   },
   "file_extension": ".py",
   "mimetype": "text/x-python",
   "name": "python",
   "nbconvert_exporter": "python",
   "pygments_lexer": "ipython3",
   "version": "3.8.7"
  }
 },
 "nbformat": 4,
 "nbformat_minor": 5
}
