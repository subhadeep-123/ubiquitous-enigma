{
 "cells": [
  {
   "cell_type": "markdown",
   "id": "under-lottery",
   "metadata": {},
   "source": [
    "## Loading the dataset"
   ]
  },
  {
   "cell_type": "code",
   "execution_count": 1,
   "id": "rolled-committee",
   "metadata": {},
   "outputs": [],
   "source": [
    "from keras.datasets import mnist"
   ]
  },
  {
   "cell_type": "code",
   "execution_count": 2,
   "id": "critical-holder",
   "metadata": {},
   "outputs": [],
   "source": [
    "(train_image, train_label), (test_image, test_label) = mnist.load_data()"
   ]
  },
  {
   "cell_type": "code",
   "execution_count": 3,
   "id": "smooth-justice",
   "metadata": {},
   "outputs": [
    {
     "name": "stdout",
     "output_type": "stream",
     "text": [
      "The size of train_data - (60000, 28, 28)\n",
      "The size of train_label - (60000,)\n",
      "The size of test_data - (10000, 28, 28)\n",
      "The size of test_label - (10000,)\n"
     ]
    }
   ],
   "source": [
    "print(f\"The size of train_data - {train_image.shape}\")\n",
    "print(f\"The size of train_label - {train_label.shape}\")\n",
    "print(f\"The size of test_data - {test_image.shape}\")\n",
    "print(f\"The size of test_label - {test_label.shape}\")"
   ]
  },
  {
   "cell_type": "code",
   "execution_count": 4,
   "id": "hybrid-jungle",
   "metadata": {},
   "outputs": [
    {
     "data": {
      "image/png": "[encoded data removed]",
      "text/plain": [
       "<Figure size 432x288 with 1 Axes>"
      ]
     },
     "metadata": {
      "needs_background": "light"
     },
     "output_type": "display_data"
    }
   ],
   "source": [
    "import matplotlib.pyplot as plt\n",
    "plt.imshow(train_image[2], cmap = plt.cm.binary)\n",
    "plt.show()"
   ]
  },
  {
   "cell_type": "markdown",
   "id": "incorporate-feature",
   "metadata": {},
   "source": [
    "## Preparing the image data"
   ]
  },
  {
   "cell_type": "code",
   "execution_count": 5,
   "id": "latter-given",
   "metadata": {},
   "outputs": [],
   "source": [
    "train_image = train_image.reshape(60000, 28 * 28)\n",
    "train_image = train_image.astype('float32') / 255\n",
    "\n",
    "test_image = test_image.reshape(10000, 28 * 28)\n",
    "test_image = test_image.astype('float32') / 255"
   ]
  },
  {
   "cell_type": "markdown",
   "id": "minute-transmission",
   "metadata": {},
   "source": [
    "## Preparing the Labels"
   ]
  },
  {
   "cell_type": "code",
   "execution_count": 8,
   "id": "nearby-material",
   "metadata": {},
   "outputs": [],
   "source": [
    "from keras.utils import to_categorical\n",
    "train_label = to_categorical(train_label)\n",
    "test_label = to_categorical(test_label)"
   ]
  },
  {
   "cell_type": "markdown",
   "id": "blocked-psychiatry",
   "metadata": {},
   "source": [
    "## Network Architecture"
   ]
  },
  {
   "cell_type": "code",
   "execution_count": 10,
   "id": "bizarre-atlas",
   "metadata": {},
   "outputs": [
    {
     "name": "stdout",
     "output_type": "stream",
     "text": [
      "Epoch 1/5\n",
      "469/469 [==============================] - 8s 12ms/step - loss: 0.4249 - accuracy: 0.8773\n",
      "Epoch 2/5\n",
      "469/469 [==============================] - 6s 12ms/step - loss: 0.1071 - accuracy: 0.9683\n",
      "Epoch 3/5\n",
      "469/469 [==============================] - 6s 12ms/step - loss: 0.0662 - accuracy: 0.9802\n",
      "Epoch 4/5\n",
      "469/469 [==============================] - 6s 12ms/step - loss: 0.0484 - accuracy: 0.9856\n",
      "Epoch 5/5\n",
      "469/469 [==============================] - 6s 12ms/step - loss: 0.0367 - accuracy: 0.9890\n"
     ]
    },
    {
     "data": {
      "text/plain": [
       "<tensorflow.python.keras.callbacks.History at 0x1a811e98c70>"
      ]
     },
     "execution_count": 10,
     "metadata": {},
     "output_type": "execute_result"
    }
   ],
   "source": [
    "from keras import models\n",
    "from keras import layers\n",
    "\n",
    "model = models.Sequential()\n",
    "model.add(layers.Dense(512, activation = 'relu', input_shape=(28 * 28,)))\n",
    "model.add(layers.Dense(10, activation = 'softmax'))\n",
    "model.compile(optimizer = 'rmsprop',\n",
    "             loss = 'categorical_crossentropy',\n",
    "             metrics = ['accuracy'])\n",
    "model.fit(train_image, train_label, epochs = 5, batch_size=128)"
   ]
  },
  {
   "cell_type": "code",
   "execution_count": 11,
   "id": "cardiac-excerpt",
   "metadata": {},
   "outputs": [
    {
     "name": "stdout",
     "output_type": "stream",
     "text": [
      "Model: \"sequential_1\"\n",
      "_________________________________________________________________\n",
      "Layer (type)                 Output Shape              Param #   \n",
      "=================================================================\n",
      "dense_1 (Dense)              (None, 512)               401920    \n",
      "_________________________________________________________________\n",
      "dense_2 (Dense)              (None, 10)                5130      \n",
      "=================================================================\n",
      "Total params: 407,050\n",
      "Trainable params: 407,050\n",
      "Non-trainable params: 0\n",
      "_________________________________________________________________\n"
     ]
    }
   ],
   "source": [
    "model.summary()"
   ]
  },
  {
   "cell_type": "markdown",
   "id": "accepted-external",
   "metadata": {},
   "source": [
    "## Evaluating the Model"
   ]
  },
  {
   "cell_type": "code",
   "execution_count": 12,
   "id": "painted-april",
   "metadata": {},
   "outputs": [
    {
     "name": "stdout",
     "output_type": "stream",
     "text": [
      "313/313 [==============================] - 1s 2ms/step - loss: 0.0675 - accuracy: 0.9796\n",
      "Test loss - 0.06754136085510254\n",
      "Test acc - 0.9796000123023987\n"
     ]
    }
   ],
   "source": [
    "test_loss, test_acc = model.evaluate(test_image, test_label)\n",
    "print(f\"Test loss - {test_loss}\")\n",
    "print(f\"Test acc - {test_acc}\")"
   ]
  },
  {
   "cell_type": "code",
   "execution_count": null,
   "id": "hollow-diameter",
   "metadata": {},
   "outputs": [],
   "source": []
  }
 ],
 "metadata": {
  "kernelspec": {
   "display_name": "Python 3",
   "language": "python",
   "name": "python3"
  },
  "language_info": {
   "codemirror_mode": {
    "name": "ipython",
    "version": 3
   },
   "file_extension": ".py",
   "mimetype": "text/x-python",
   "name": "python",
   "nbconvert_exporter": "python",
   "pygments_lexer": "ipython3",
   "version": "3.8.7"
  }
 },
 "nbformat": 4,
 "nbformat_minor": 5
}
