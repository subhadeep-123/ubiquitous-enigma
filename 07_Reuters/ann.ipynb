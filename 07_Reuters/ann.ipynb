{
 "cells": [
  {
   "cell_type": "code",
   "execution_count": 1,
   "id": "executed-fitness",
   "metadata": {},
   "outputs": [],
   "source": [
    "import numpy as np\n",
    "import tensorflow as tf\n",
    "import matplotlib.pyplot as plt"
   ]
  },
  {
   "cell_type": "markdown",
   "id": "basic-scale",
   "metadata": {},
   "source": [
    "## Loading the Training Data"
   ]
  },
  {
   "cell_type": "code",
   "execution_count": 2,
   "id": "hindu-broadcast",
   "metadata": {},
   "outputs": [
    {
     "name": "stdout",
     "output_type": "stream",
     "text": [
      "Size of Train Data - (8982,)\n",
      "Size of Train Label - (8982,)\n",
      "Size of Test Data - (2246,)\n",
      "Size of Test Label - (2246,)\n"
     ]
    },
    {
     "name": "stderr",
     "output_type": "stream",
     "text": [
      "c:\\users\\subhadeep banerjee\\appdata\\local\\programs\\python\\python38\\lib\\site-packages\\tensorflow\\python\\keras\\datasets\\reuters.py:148: VisibleDeprecationWarning: Creating an ndarray from ragged nested sequences (which is a list-or-tuple of lists-or-tuples-or ndarrays with different lengths or shapes) is deprecated. If you meant to do this, you must specify 'dtype=object' when creating the ndarray\n",
      "  x_train, y_train = np.array(xs[:idx]), np.array(labels[:idx])\n",
      "c:\\users\\subhadeep banerjee\\appdata\\local\\programs\\python\\python38\\lib\\site-packages\\tensorflow\\python\\keras\\datasets\\reuters.py:149: VisibleDeprecationWarning: Creating an ndarray from ragged nested sequences (which is a list-or-tuple of lists-or-tuples-or ndarrays with different lengths or shapes) is deprecated. If you meant to do this, you must specify 'dtype=object' when creating the ndarray\n",
      "  x_test, y_test = np.array(xs[idx:]), np.array(labels[idx:])\n"
     ]
    }
   ],
   "source": [
    "(train_data, train_label), (test_data, test_label) = tf.keras.datasets.reuters.load_data(num_words=10000)\n",
    "print(f\"Size of Train Data - {train_data.shape}\")\n",
    "print(f\"Size of Train Label - {train_label.shape}\")\n",
    "print(f\"Size of Test Data - {test_data.shape}\")\n",
    "print(f\"Size of Test Label - {test_label.shape}\")"
   ]
  },
  {
   "cell_type": "code",
   "execution_count": 3,
   "id": "interracial-glance",
   "metadata": {},
   "outputs": [
    {
     "name": "stdout",
     "output_type": "stream",
     "text": [
      "[1, 2, 2, 8, 43, 10, 447, 5, 25, 207, 270, 5, 3095, 111, 16, 369, 186, 90, 67, 7, 89, 5, 19, 102, 6, 19, 124, 15, 90, 67, 84, 22, 482, 26, 7, 48, 4, 49, 8, 864, 39, 209, 154, 6, 151, 6, 83, 11, 15, 22, 155, 11, 15, 7, 48, 9, 4579, 1005, 504, 6, 258, 6, 272, 11, 15, 22, 134, 44, 11, 15, 16, 8, 197, 1245, 90, 67, 52, 29, 209, 30, 32, 132, 6, 109, 15, 17, 12] <class 'list'>\n",
      "3 <class 'numpy.int64'>\n"
     ]
    }
   ],
   "source": [
    "print(train_data[0], type(train_data[0]))\n",
    "print(train_label[0], type(train_label[0]))"
   ]
  },
  {
   "cell_type": "code",
   "execution_count": 4,
   "id": "wicked-hughes",
   "metadata": {},
   "outputs": [
    {
     "data": {
      "text/plain": [
       "9999"
      ]
     },
     "execution_count": 4,
     "metadata": {},
     "output_type": "execute_result"
    }
   ],
   "source": [
    "## checking the max index\n",
    "max([max(seq) for seq in train_data])"
   ]
  },
  {
   "cell_type": "code",
   "execution_count": 5,
   "id": "posted-bearing",
   "metadata": {},
   "outputs": [
    {
     "data": {
      "text/plain": [
       "'? ? ? said as a result of its december acquisition of space co it expects earnings per share in 1987 of 1 15 to 1 30 dlrs per share up from 70 cts in 1986 the company said pretax net should rise to nine to 10 mln dlrs from six mln dlrs in 1986 and rental operation revenues to 19 to 22 mln dlrs from 12 5 mln dlrs it said cash flow per share this year should be 2 50 to three dlrs reuter 3'"
      ]
     },
     "execution_count": 5,
     "metadata": {},
     "output_type": "execute_result"
    }
   ],
   "source": [
    "# Decoding\n",
    "word_index = tf.keras.datasets.reuters.get_word_index()\n",
    "reverse_word_index = dict([(value, key) for (key, value) in word_index.items()])\n",
    "decoded_review = ' '.join([reverse_word_index.get(i - 3, '?') for i in train_data[0]])\n",
    "decoded_review"
   ]
  },
  {
   "cell_type": "markdown",
   "id": "fewer-independence",
   "metadata": {},
   "source": [
    "## Encoding the integer seq into binary matrix"
   ]
  },
  {
   "cell_type": "code",
   "execution_count": 6,
   "id": "international-saint",
   "metadata": {},
   "outputs": [],
   "source": [
    "# One hot encoding the whole dataset\n",
    "def vectorize_seqs(seq, dim=10000):\n",
    "    res = np.zeros((len(seq), dim))\n",
    "    for i, s in enumerate(seq):\n",
    "        res[i, s] = 1\n",
    "    return res\n",
    "X_train = vectorize_seqs(train_data)\n",
    "X_test = vectorize_seqs(test_label)\n",
    "\n",
    "Y_train = np.asarray(train_label).astype('float32')\n",
    "Y_test = np.asarray(test_label).astype('float32')"
   ]
  },
  {
   "cell_type": "code",
   "execution_count": 7,
   "id": "caroline-timothy",
   "metadata": {},
   "outputs": [
    {
     "name": "stdout",
     "output_type": "stream",
     "text": [
      "Size of Train Data - (8982, 10000)\n",
      "Size of Train Label - (2246, 10000)\n",
      "Size of Test Data - (8982,)\n",
      "Size of Test Label - (2246,)\n"
     ]
    }
   ],
   "source": [
    "print(f\"Size of Train Data - {X_train.shape}\")\n",
    "print(f\"Size of Train Label - {X_test.shape}\")\n",
    "print(f\"Size of Test Data - {Y_train.shape}\")\n",
    "print(f\"Size of Test Label - {Y_test.shape}\")"
   ]
  },
  {
   "cell_type": "code",
   "execution_count": 8,
   "id": "pacific-spray",
   "metadata": {},
   "outputs": [
    {
     "name": "stdout",
     "output_type": "stream",
     "text": [
      "[0. 1. 1. ... 0. 0. 0.] <class 'numpy.ndarray'>\n"
     ]
    }
   ],
   "source": [
    "print(X_train[0], type(X_train[0]))"
   ]
  },
  {
   "cell_type": "markdown",
   "id": "demonstrated-timing",
   "metadata": {},
   "source": [
    "## One Hot Encoding"
   ]
  },
  {
   "cell_type": "code",
   "execution_count": 9,
   "id": "deluxe-skating",
   "metadata": {},
   "outputs": [],
   "source": [
    "encoded_train_labels = tf.keras.utils.to_categorical(train_label)\n",
    "encoded_test_labels = tf.keras.utils.to_categorical(test_label)"
   ]
  },
  {
   "cell_type": "markdown",
   "id": "destroyed-sequence",
   "metadata": {},
   "source": [
    "## Making the Model\n",
    "\n",
    "### Making the validation set"
   ]
  },
  {
   "cell_type": "code",
   "execution_count": 10,
   "id": "latin-donna",
   "metadata": {},
   "outputs": [],
   "source": [
    "x_val = X_train[:1000]\n",
    "partial_x_train = X_train[1000:]\n",
    "\n",
    "y_val = encoded_train_labels[:1000]\n",
    "partial_y_train = encoded_train_labels[1000:]"
   ]
  },
  {
   "cell_type": "markdown",
   "id": "clinical-dubai",
   "metadata": {},
   "source": [
    "### Model Architecture"
   ]
  },
  {
   "cell_type": "code",
   "execution_count": 11,
   "id": "removed-photographer",
   "metadata": {},
   "outputs": [
    {
     "name": "stdout",
     "output_type": "stream",
     "text": [
      "Model: \"sequential\"\n",
      "_________________________________________________________________\n",
      "Layer (type)                 Output Shape              Param #   \n",
      "=================================================================\n",
      "dense (Dense)                (None, 64)                640064    \n",
      "_________________________________________________________________\n",
      "dense_1 (Dense)              (None, 64)                4160      \n",
      "_________________________________________________________________\n",
      "dense_2 (Dense)              (None, 46)                2990      \n",
      "=================================================================\n",
      "Total params: 647,214\n",
      "Trainable params: 647,214\n",
      "Non-trainable params: 0\n",
      "_________________________________________________________________\n"
     ]
    }
   ],
   "source": [
    "model = tf.keras.models.Sequential()\n",
    "model.add(tf.keras.layers.Dense(units = 64, activation='relu', input_shape = (10000,)))\n",
    "model.add(tf.keras.layers.Dense(units = 64, activation='relu'))\n",
    "model.add(tf.keras.layers.Dense(units = 46, activation='softmax'))\n",
    "model.compile(optimizer = 'rmsprop', \n",
    "              loss = 'categorical_crossentropy', \n",
    "              metrics = ['accuracy'])\n",
    "model.summary()"
   ]
  },
  {
   "cell_type": "code",
   "execution_count": 12,
   "id": "atlantic-subscription",
   "metadata": {},
   "outputs": [
    {
     "name": "stdout",
     "output_type": "stream",
     "text": [
      "Epoch 1/10\n",
      "16/16 [==============================] - 6s 278ms/step - loss: 3.1330 - accuracy: 0.4059 - val_loss: 1.7775 - val_accuracy: 0.6370\n",
      "Epoch 2/10\n",
      "16/16 [==============================] - 1s 34ms/step - loss: 1.5721 - accuracy: 0.6792 - val_loss: 1.3248 - val_accuracy: 0.6930\n",
      "Epoch 3/10\n",
      "16/16 [==============================] - 1s 55ms/step - loss: 1.1273 - accuracy: 0.7526 - val_loss: 1.1446 - val_accuracy: 0.7350\n",
      "Epoch 4/10\n",
      "16/16 [==============================] - 1s 49ms/step - loss: 0.8878 - accuracy: 0.8085 - val_loss: 1.0426 - val_accuracy: 0.7640\n",
      "Epoch 5/10\n",
      "16/16 [==============================] - 1s 50ms/step - loss: 0.7006 - accuracy: 0.8547 - val_loss: 0.9595 - val_accuracy: 0.7810\n",
      "Epoch 6/10\n",
      "16/16 [==============================] - 1s 52ms/step - loss: 0.5544 - accuracy: 0.8855 - val_loss: 0.9089 - val_accuracy: 0.8080\n",
      "Epoch 7/10\n",
      "16/16 [==============================] - 1s 45ms/step - loss: 0.4392 - accuracy: 0.9127 - val_loss: 0.8978 - val_accuracy: 0.8030\n",
      "Epoch 8/10\n",
      "16/16 [==============================] - 1s 42ms/step - loss: 0.3475 - accuracy: 0.9292 - val_loss: 0.8692 - val_accuracy: 0.8150\n",
      "Epoch 9/10\n",
      "16/16 [==============================] - 1s 46ms/step - loss: 0.2988 - accuracy: 0.9392 - val_loss: 0.8809 - val_accuracy: 0.8160\n",
      "Epoch 10/10\n",
      "16/16 [==============================] - 1s 45ms/step - loss: 0.2464 - accuracy: 0.9455 - val_loss: 0.8745 - val_accuracy: 0.8240\n"
     ]
    }
   ],
   "source": [
    "history = model.fit(partial_x_train,partial_y_train,\n",
    "         epochs = 10,\n",
    "         batch_size = 512,\n",
    "         validation_data = (x_val, y_val))"
   ]
  },
  {
   "cell_type": "code",
   "execution_count": 13,
   "id": "specified-course",
   "metadata": {},
   "outputs": [
    {
     "name": "stdout",
     "output_type": "stream",
     "text": [
      "dict_keys(['loss', 'accuracy', 'val_loss', 'val_accuracy'])\n"
     ]
    }
   ],
   "source": [
    "hist_dict = history.history\n",
    "print(hist_dict.keys())"
   ]
  },
  {
   "cell_type": "code",
   "execution_count": 14,
   "id": "mature-botswana",
   "metadata": {},
   "outputs": [
    {
     "name": "stdout",
     "output_type": "stream",
     "text": [
      "Accuracy - 82.30268001556396%\n",
      "Validation Accuracy - 76.7600005865097%\n"
     ]
    }
   ],
   "source": [
    "acc = hist_dict.get('accuracy')\n",
    "print(f\"Accuracy - {sum(acc)/len(acc) * 100}%\")\n",
    "\n",
    "val_acc = hist_dict.get('val_accuracy')\n",
    "print(f\"Validation Accuracy - {sum(val_acc)/len(val_acc) * 100}%\")"
   ]
  },
  {
   "cell_type": "markdown",
   "id": "accomplished-robinson",
   "metadata": {},
   "source": [
    "## Plotting training and validation Loss"
   ]
  },
  {
   "cell_type": "code",
   "execution_count": 15,
   "id": "colonial-conditioning",
   "metadata": {},
   "outputs": [
    {
     "data": {
      "image/png": "[encoded data removed]",
      "text/plain": [
       "<Figure size 720x720 with 1 Axes>"
      ]
     },
     "metadata": {
      "needs_background": "light"
     },
     "output_type": "display_data"
    }
   ],
   "source": [
    "loss = hist_dict.get('loss')\n",
    "val_loss = hist_dict.get('val_loss')\n",
    "epochs = range(1, len(loss) + 1)\n",
    "figure = plt.figure(figsize = (10, 10))\n",
    "plt.plot(epochs, loss, 'bo', label = 'Training Loss')\n",
    "plt.plot(epochs, val_loss, 'b', label = 'Validation Loss')\n",
    "plt.title('Tranning Vs Validation Loss')\n",
    "plt.xlabel('Epochs')\n",
    "plt.ylabel('Loss')\n",
    "plt.legend()\n",
    "plt.show()"
   ]
  },
  {
   "cell_type": "markdown",
   "id": "incorporate-reach",
   "metadata": {},
   "source": [
    "## Plotting training and validation Accuracy "
   ]
  },
  {
   "cell_type": "code",
   "execution_count": 16,
   "id": "opposed-business",
   "metadata": {},
   "outputs": [
    {
     "data": {
      "image/png": "[encoded data removed]",
      "text/plain": [
       "<Figure size 432x288 with 1 Axes>"
      ]
     },
     "metadata": {
      "needs_background": "light"
     },
     "output_type": "display_data"
    }
   ],
   "source": [
    "plt.clf() # Clear the figure\n",
    "acc = hist_dict.get('accuracy')\n",
    "val_acc = hist_dict.get('val_accuracy')\n",
    "epochs = range(1, len(acc) + 1)\n",
    "plt.plot(epochs, acc, 'bo', label = 'Training Accuracy')\n",
    "plt.plot(epochs, val_acc, 'b', label = 'Validation Accuracy')\n",
    "plt.title('Training Vs Validation Accuracy')\n",
    "plt.xlabel('Epochs')\n",
    "plt.ylabel('Accuracy')\n",
    "plt.legend()\n",
    "plt.show()"
   ]
  },
  {
   "cell_type": "code",
   "execution_count": null,
   "id": "computational-joining",
   "metadata": {},
   "outputs": [],
   "source": []
  }
 ],
 "metadata": {
  "kernelspec": {
   "display_name": "Python 3",
   "language": "python",
   "name": "python3"
  },
  "language_info": {
   "codemirror_mode": {
    "name": "ipython",
    "version": 3
   },
   "file_extension": ".py",
   "mimetype": "text/x-python",
   "name": "python",
   "nbconvert_exporter": "python",
   "pygments_lexer": "ipython3",
   "version": "3.8.7"
  }
 },
 "nbformat": 4,
 "nbformat_minor": 5
}
