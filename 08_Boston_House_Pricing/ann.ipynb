{
  "nbformat": 4,
  "nbformat_minor": 5,
  "metadata": {
    "kernelspec": {
      "display_name": "Python 3",
      "language": "python",
      "name": "python3"
    },
    "language_info": {
      "codemirror_mode": {
        "name": "ipython",
        "version": 3
      },
      "file_extension": ".py",
      "mimetype": "text/x-python",
      "name": "python",
      "nbconvert_exporter": "python",
      "pygments_lexer": "ipython3",
      "version": "3.8.7"
    },
    "colab": {
      "name": "ann_Boston_housing.ipynb",
      "provenance": []
    },
    "accelerator": "GPU"
  },
  "cells": [
    {
      "cell_type": "code",
      "metadata": {
        "id": "excess-passion"
      },
      "source": [
        "import numpy as np\n",
        "import tensorflow as tf\n",
        "import matplotlib.pyplot as plt"
      ],
      "id": "excess-passion",
      "execution_count": 1,
      "outputs": []
    },
    {
      "cell_type": "markdown",
      "metadata": {
        "id": "choice-protein"
      },
      "source": [
        "## Loading the Dataset"
      ],
      "id": "choice-protein"
    },
    {
      "cell_type": "code",
      "metadata": {
        "colab": {
          "base_uri": "https://localhost:8080/"
        },
        "id": "friendly-henry",
        "outputId": "0ea5dcf6-2b1a-4347-a129-28b336feb375"
      },
      "source": [
        "(train_data, train_target), (test_data, test_target) = tf.keras.datasets.boston_housing.load_data()\n",
        "print(f\"Train Data Size - {train_data.shape}\")\n",
        "print(f\"Train Label Size - {train_target.shape}\")\n",
        "print(f\"Test Data Size - {test_data.shape}\")\n",
        "print(f\"Test Label Size - {test_target.shape}\")"
      ],
      "id": "friendly-henry",
      "execution_count": 2,
      "outputs": [
        {
          "output_type": "stream",
          "text": [
            "Downloading data from https://storage.googleapis.com/tensorflow/tf-keras-datasets/boston_housing.npz\n",
            "57344/57026 [==============================] - 0s 0us/step\n",
            "Train Data Size - (404, 13)\n",
            "Train Label Size - (404,)\n",
            "Test Data Size - (102, 13)\n",
            "Test Label Size - (102,)\n"
          ],
          "name": "stdout"
        }
      ]
    },
    {
      "cell_type": "code",
      "metadata": {
        "colab": {
          "base_uri": "https://localhost:8080/"
        },
        "id": "exposed-agenda",
        "outputId": "91c561df-f920-4f21-c950-d23a1a3653b2"
      },
      "source": [
        "train_data[0]"
      ],
      "id": "exposed-agenda",
      "execution_count": 3,
      "outputs": [
        {
          "output_type": "execute_result",
          "data": {
            "text/plain": [
              "array([  1.23247,   0.     ,   8.14   ,   0.     ,   0.538  ,   6.142  ,\n",
              "        91.7    ,   3.9769 ,   4.     , 307.     ,  21.     , 396.9    ,\n",
              "        18.72   ])"
            ]
          },
          "metadata": {
            "tags": []
          },
          "execution_count": 3
        }
      ]
    },
    {
      "cell_type": "code",
      "metadata": {
        "colab": {
          "base_uri": "https://localhost:8080/"
        },
        "id": "after-charity",
        "outputId": "2f30b1e3-13e8-4a4f-c9dd-7e29279a4a5c"
      },
      "source": [
        "test_data[0]"
      ],
      "id": "after-charity",
      "execution_count": 4,
      "outputs": [
        {
          "output_type": "execute_result",
          "data": {
            "text/plain": [
              "array([ 18.0846,   0.    ,  18.1   ,   0.    ,   0.679 ,   6.434 ,\n",
              "       100.    ,   1.8347,  24.    , 666.    ,  20.2   ,  27.25  ,\n",
              "        29.05  ])"
            ]
          },
          "metadata": {
            "tags": []
          },
          "execution_count": 4
        }
      ]
    },
    {
      "cell_type": "code",
      "metadata": {
        "colab": {
          "base_uri": "https://localhost:8080/"
        },
        "id": "vocal-learning",
        "outputId": "dae95ae7-8e95-4d76-de86-b15a859d1e5e"
      },
      "source": [
        "test_target[0]"
      ],
      "id": "vocal-learning",
      "execution_count": 5,
      "outputs": [
        {
          "output_type": "execute_result",
          "data": {
            "text/plain": [
              "7.2"
            ]
          },
          "metadata": {
            "tags": []
          },
          "execution_count": 5
        }
      ]
    },
    {
      "cell_type": "code",
      "metadata": {
        "colab": {
          "base_uri": "https://localhost:8080/"
        },
        "id": "refined-match",
        "outputId": "a6f545d1-9d2a-45b0-8bdc-aa45270fe4ed"
      },
      "source": [
        "train_target[0]"
      ],
      "id": "refined-match",
      "execution_count": 6,
      "outputs": [
        {
          "output_type": "execute_result",
          "data": {
            "text/plain": [
              "15.2"
            ]
          },
          "metadata": {
            "tags": []
          },
          "execution_count": 6
        }
      ]
    },
    {
      "cell_type": "markdown",
      "metadata": {
        "id": "previous-browser"
      },
      "source": [
        "## Normalizing the Dataset"
      ],
      "id": "previous-browser"
    },
    {
      "cell_type": "code",
      "metadata": {
        "id": "impressed-jersey"
      },
      "source": [
        "mean = train_data.mean(axis = 0)\n",
        "train_data -= mean\n",
        "std = train_data.std(axis = 0)\n",
        "train_data /= std\n",
        "\n",
        "test_data -= mean\n",
        "test_data /= std"
      ],
      "id": "impressed-jersey",
      "execution_count": 7,
      "outputs": []
    },
    {
      "cell_type": "code",
      "metadata": {
        "colab": {
          "base_uri": "https://localhost:8080/"
        },
        "id": "above-scope",
        "outputId": "edec5613-a3c7-416f-b0da-13a66d4e1e8a"
      },
      "source": [
        "train_data[0]"
      ],
      "id": "above-scope",
      "execution_count": 8,
      "outputs": [
        {
          "output_type": "execute_result",
          "data": {
            "text/plain": [
              "array([-0.27224633, -0.48361547, -0.43576161, -0.25683275, -0.1652266 ,\n",
              "       -0.1764426 ,  0.81306188,  0.1166983 , -0.62624905, -0.59517003,\n",
              "        1.14850044,  0.44807713,  0.8252202 ])"
            ]
          },
          "metadata": {
            "tags": []
          },
          "execution_count": 8
        }
      ]
    },
    {
      "cell_type": "markdown",
      "metadata": {
        "id": "hungry-import"
      },
      "source": [
        "## Building the Model"
      ],
      "id": "hungry-import"
    },
    {
      "cell_type": "code",
      "metadata": {
        "id": "rural-environment"
      },
      "source": [
        "def build_model():\n",
        "    model = tf.keras.models.Sequential()\n",
        "    model.add(tf.keras.layers.Dense(units = 64, \n",
        "                                    activation = 'relu', \n",
        "                                    input_shape = (13, )))\n",
        "    model.add(tf.keras.layers.Dense(units = 64, \n",
        "                                    activation = 'relu'))\n",
        "    model.add(tf.keras.layers.Dense(units = 1))\n",
        "    model.compile(optimizer = 'rmsprop',\n",
        "                  loss = 'mse',\n",
        "                  metrics = ['mae'])\n",
        "    return model"
      ],
      "id": "rural-environment",
      "execution_count": 9,
      "outputs": []
    },
    {
      "cell_type": "markdown",
      "metadata": {
        "id": "impressive-sauce"
      },
      "source": [
        "## Validating With K-Fold Cross Validation"
      ],
      "id": "impressive-sauce"
    },
    {
      "cell_type": "code",
      "metadata": {
        "colab": {
          "base_uri": "https://localhost:8080/"
        },
        "id": "static-assist",
        "outputId": "adc6cdac-0aa4-47d7-cb1d-89036d26e686"
      },
      "source": [
        "k = 4\n",
        "num_val_samples = len(train_data) // k\n",
        "num_epochs = 100\n",
        "all_scores = list()\n",
        "\n",
        "# Prepare the validation data\n",
        "for i in range(k):\n",
        "    print(f\"Processing Fold: {i+1}\")\n",
        "    val_data = train_data[i * num_val_samples: (i + 1) * num_val_samples]\n",
        "    val_targets = train_target[i * num_val_samples: (i + 1) * num_val_samples]\n",
        "    \n",
        "    partial_train_data = np.concatenate(\n",
        "            [train_data[:i * num_val_samples],\n",
        "            train_data[(i + 1) * num_val_samples:]],\n",
        "            axis = 0)\n",
        "    partial_train_target = np.concatenate(\n",
        "            [train_target[:i * num_val_samples],\n",
        "            train_target[(i + 1) * num_val_samples:]],\n",
        "            axis = 0)\n",
        "    model = build_model()\n",
        "    model.fit(partial_train_data, \n",
        "              partial_train_target,\n",
        "              epochs = num_epochs,\n",
        "              batch_size = 1,\n",
        "              verbose = 0)\n",
        "    val_mse, val_mae = model.evaluate(val_data, val_targets, verbose=0)\n",
        "    all_scores.append(val_mae)\n",
        "    \n",
        "print(f\"Mean of Scores: \\n {np.mean(all_scores)}\")"
      ],
      "id": "static-assist",
      "execution_count": 11,
      "outputs": [
        {
          "output_type": "stream",
          "text": [
            "Processing Fold: 1\n",
            "Processing Fold: 2\n",
            "Processing Fold: 3\n",
            "Processing Fold: 4\n",
            "Mean of Scores: \n",
            " 2.4960142970085144\n"
          ],
          "name": "stdout"
        }
      ]
    },
    {
      "cell_type": "code",
      "metadata": {
        "colab": {
          "base_uri": "https://localhost:8080/"
        },
        "id": "administrative-setup",
        "outputId": "d6e53320-8a84-4e3c-ef20-aad76b39557f"
      },
      "source": [
        "print(f\"All Scores: \\n{all_scores}\")"
      ],
      "id": "administrative-setup",
      "execution_count": 12,
      "outputs": [
        {
          "output_type": "stream",
          "text": [
            "All Scores: \n",
            "[2.3173232078552246, 2.704639196395874, 2.487928867340088, 2.474165916442871]\n"
          ],
          "name": "stdout"
        }
      ]
    },
    {
      "cell_type": "code",
      "metadata": {
        "id": "CDwQmY3_53Z5"
      },
      "source": [
        ""
      ],
      "id": "CDwQmY3_53Z5",
      "execution_count": null,
      "outputs": []
    }
  ]
}