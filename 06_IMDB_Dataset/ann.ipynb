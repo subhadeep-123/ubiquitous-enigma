{
 "cells": [
  {
   "cell_type": "code",
   "execution_count": 1,
   "id": "wireless-verification",
   "metadata": {},
   "outputs": [],
   "source": [
    "import numpy as np\n",
    "import tensorflow as tf\n",
    "import matplotlib.pyplot as plt"
   ]
  },
  {
   "cell_type": "markdown",
   "id": "proof-challenge",
   "metadata": {},
   "source": [
    "## Loading the dataset"
   ]
  },
  {
   "cell_type": "code",
   "execution_count": 5,
   "id": "chronic-integral",
   "metadata": {},
   "outputs": [
    {
     "name": "stdout",
     "output_type": "stream",
     "text": [
      "Size of Train Data - (25000,)\n",
      "Size of Train Label - (25000,)\n",
      "Size of Test Data - (25000,)\n",
      "Size of Test Label - (25000,)\n"
     ]
    }
   ],
   "source": [
    "(train_data, train_label), (test_data, test_label) = tf.keras.datasets.imdb.load_data(num_words = 10000)\n",
    "print(f\"Size of Train Data - {train_data.shape}\")\n",
    "print(f\"Size of Train Label - {train_label.shape}\")\n",
    "print(f\"Size of Test Data - {test_data.shape}\")\n",
    "print(f\"Size of Test Label - {test_label.shape}\")"
   ]
  },
  {
   "cell_type": "code",
   "execution_count": 3,
   "id": "later-zoning",
   "metadata": {},
   "outputs": [
    {
     "name": "stdout",
     "output_type": "stream",
     "text": [
      "[1, 14, 22, 16, 43, 530, 973, 1622, 1385, 65, 458, 4468, 66, 3941, 4, 173, 36, 256, 5, 25, 100, 43, 838, 112, 50, 670, 2, 9, 35, 480, 284, 5, 150, 4, 172, 112, 167, 2, 336, 385, 39, 4, 172, 4536, 1111, 17, 546, 38, 13, 447, 4, 192, 50, 16, 6, 147, 2025, 19, 14, 22, 4, 1920, 4613, 469, 4, 22, 71, 87, 12, 16, 43, 530, 38, 76, 15, 13, 1247, 4, 22, 17, 515, 17, 12, 16, 626, 18, 2, 5, 62, 386, 12, 8, 316, 8, 106, 5, 4, 2223, 5244, 16, 480, 66, 3785, 33, 4, 130, 12, 16, 38, 619, 5, 25, 124, 51, 36, 135, 48, 25, 1415, 33, 6, 22, 12, 215, 28, 77, 52, 5, 14, 407, 16, 82, 2, 8, 4, 107, 117, 5952, 15, 256, 4, 2, 7, 3766, 5, 723, 36, 71, 43, 530, 476, 26, 400, 317, 46, 7, 4, 2, 1029, 13, 104, 88, 4, 381, 15, 297, 98, 32, 2071, 56, 26, 141, 6, 194, 7486, 18, 4, 226, 22, 21, 134, 476, 26, 480, 5, 144, 30, 5535, 18, 51, 36, 28, 224, 92, 25, 104, 4, 226, 65, 16, 38, 1334, 88, 12, 16, 283, 5, 16, 4472, 113, 103, 32, 15, 16, 5345, 19, 178, 32] <class 'list'>\n",
      "1 <class 'numpy.int64'>\n"
     ]
    }
   ],
   "source": [
    "print(train_data[0], type(train_data[0]))\n",
    "print(train_label[0], type(train_label[0]))"
   ]
  },
  {
   "cell_type": "code",
   "execution_count": 4,
   "id": "excess-glass",
   "metadata": {},
   "outputs": [
    {
     "data": {
      "text/plain": [
       "9999"
      ]
     },
     "execution_count": 4,
     "metadata": {},
     "output_type": "execute_result"
    }
   ],
   "source": [
    "## checking the max index\n",
    "max([max(seq) for seq in train_data])\n",
    "\n",
    "# No index will be more that 9999, cause we have restricted ourselves to the top 10,000 most frequent words"
   ]
  },
  {
   "cell_type": "code",
   "execution_count": 8,
   "id": "brutal-hungary",
   "metadata": {},
   "outputs": [
    {
     "data": {
      "text/plain": [
       "\"? this film was just brilliant casting location scenery story direction everyone's really suited the part they played and you could just imagine being there robert ? is an amazing actor and now the same being director ? father came from the same scottish island as myself so i loved the fact there was a real connection with this film the witty remarks throughout the film were great it was just brilliant so much that i bought the film as soon as it was released for ? and would recommend it to everyone to watch and the fly fishing was amazing really cried at the end it was so sad and you know what they say if you cry at a film it must have been good and this definitely was also ? to the two little boy's that played the ? of norman and paul they were just brilliant children are often left out of the ? list i think because the stars that play them all grown up are such a big profile for the whole film but these children are amazing and should be praised for what they have done don't you think the whole story was so lovely because it was true and was someone's life after all that was shared with us all\""
      ]
     },
     "execution_count": 8,
     "metadata": {},
     "output_type": "execute_result"
    }
   ],
   "source": [
    "# Decoding\n",
    "word_index = tf.keras.datasets.imdb.get_word_index()\n",
    "reverse_word_index = dict([(value, key) for (key, value) in word_index.items()])\n",
    "decoded_review = ' '.join([reverse_word_index.get(i - 3, '?') for i in train_data[0]])\n",
    "decoded_review"
   ]
  },
  {
   "cell_type": "markdown",
   "id": "informative-narrative",
   "metadata": {},
   "source": [
    "## Encoding the integer seq into binary matrix"
   ]
  },
  {
   "cell_type": "code",
   "execution_count": 11,
   "id": "similar-tunnel",
   "metadata": {},
   "outputs": [],
   "source": [
    "# One hot encoding the whole dataset\n",
    "def vectorize_seqs(seq, dim=10000):\n",
    "    res = np.zeros((len(seq), dim))\n",
    "    for i, s in enumerate(seq):\n",
    "        res[i, s] = 1\n",
    "    return res\n",
    "X_train = vectorize_seqs(train_data)\n",
    "X_test = vectorize_seqs(train_label)\n",
    "\n",
    "Y_train = np.asarray(train_label).astype('float32')\n",
    "Y_test = np.asarray(test_label).astype('float32')"
   ]
  },
  {
   "cell_type": "code",
   "execution_count": 12,
   "id": "classified-revelation",
   "metadata": {},
   "outputs": [
    {
     "name": "stdout",
     "output_type": "stream",
     "text": [
      "Size of Train Data - (25000, 10000)\n",
      "Size of Train Label - (25000, 10000)\n",
      "Size of Test Data - (25000,)\n",
      "Size of Test Label - (25000,)\n"
     ]
    }
   ],
   "source": [
    "print(f\"Size of Train Data - {X_train.shape}\")\n",
    "print(f\"Size of Train Label - {X_test.shape}\")\n",
    "print(f\"Size of Test Data - {Y_train.shape}\")\n",
    "print(f\"Size of Test Label - {Y_test.shape}\")"
   ]
  },
  {
   "cell_type": "code",
   "execution_count": 13,
   "id": "silver-factory",
   "metadata": {},
   "outputs": [
    {
     "name": "stdout",
     "output_type": "stream",
     "text": [
      "[0. 1. 1. ... 0. 0. 0.] <class 'numpy.ndarray'>\n"
     ]
    }
   ],
   "source": [
    "print(X_train[0], type(X_train[0]))"
   ]
  },
  {
   "cell_type": "markdown",
   "id": "cubic-transport",
   "metadata": {},
   "source": [
    "## Making the Model\n",
    "\n",
    "#### Setting aside a validation set"
   ]
  },
  {
   "cell_type": "code",
   "execution_count": 14,
   "id": "large-immigration",
   "metadata": {},
   "outputs": [],
   "source": [
    "# In order to monitor during training the accuray of the model on data, it has never seen. we create a validation set by setting\n",
    "# up 10,000 samples from the original dataset\n",
    "x_val = X_train[:10000]\n",
    "partial_x_train = X_train[10000:]\n",
    "y_val = Y_train[:10000]\n",
    "partial_y_train = Y_train[10000:]"
   ]
  },
  {
   "cell_type": "markdown",
   "id": "comprehensive-benchmark",
   "metadata": {},
   "source": [
    "### Model Arcitecture"
   ]
  },
  {
   "cell_type": "code",
   "execution_count": 15,
   "id": "hazardous-adoption",
   "metadata": {},
   "outputs": [
    {
     "name": "stdout",
     "output_type": "stream",
     "text": [
      "Epoch 1/20\n",
      "30/30 [==============================] - 5s 111ms/step - loss: 0.5928 - accuracy: 0.6944 - val_loss: 0.4033 - val_accuracy: 0.8657\n",
      "Epoch 2/20\n",
      "30/30 [==============================] - 1s 23ms/step - loss: 0.3391 - accuracy: 0.8961 - val_loss: 0.3107 - val_accuracy: 0.8859\n",
      "Epoch 3/20\n",
      "30/30 [==============================] - 1s 23ms/step - loss: 0.2322 - accuracy: 0.9295 - val_loss: 0.2904 - val_accuracy: 0.8855\n",
      "Epoch 4/20\n",
      "30/30 [==============================] - 1s 23ms/step - loss: 0.1831 - accuracy: 0.9409 - val_loss: 0.2853 - val_accuracy: 0.8860\n",
      "Epoch 5/20\n",
      "30/30 [==============================] - 1s 22ms/step - loss: 0.1455 - accuracy: 0.9543 - val_loss: 0.2798 - val_accuracy: 0.8879\n",
      "Epoch 6/20\n",
      "30/30 [==============================] - 1s 22ms/step - loss: 0.1219 - accuracy: 0.9640 - val_loss: 0.2941 - val_accuracy: 0.8867\n",
      "Epoch 7/20\n",
      "30/30 [==============================] - 1s 27ms/step - loss: 0.0971 - accuracy: 0.9731 - val_loss: 0.3123 - val_accuracy: 0.8842\n",
      "Epoch 8/20\n",
      "30/30 [==============================] - 1s 22ms/step - loss: 0.0819 - accuracy: 0.9778 - val_loss: 0.3376 - val_accuracy: 0.8792\n",
      "Epoch 9/20\n",
      "30/30 [==============================] - 1s 22ms/step - loss: 0.0674 - accuracy: 0.9831 - val_loss: 0.3670 - val_accuracy: 0.8734\n",
      "Epoch 10/20\n",
      "30/30 [==============================] - 1s 21ms/step - loss: 0.0591 - accuracy: 0.9848 - val_loss: 0.3734 - val_accuracy: 0.8790\n",
      "Epoch 11/20\n",
      "30/30 [==============================] - 1s 22ms/step - loss: 0.0460 - accuracy: 0.9907 - val_loss: 0.4028 - val_accuracy: 0.8754\n",
      "Epoch 12/20\n",
      "30/30 [==============================] - 1s 22ms/step - loss: 0.0375 - accuracy: 0.9926 - val_loss: 0.4585 - val_accuracy: 0.8659\n",
      "Epoch 13/20\n",
      "30/30 [==============================] - 1s 22ms/step - loss: 0.0311 - accuracy: 0.9938 - val_loss: 0.4718 - val_accuracy: 0.8763\n",
      "Epoch 14/20\n",
      "30/30 [==============================] - 1s 22ms/step - loss: 0.0231 - accuracy: 0.9954 - val_loss: 0.4904 - val_accuracy: 0.8732\n",
      "Epoch 15/20\n",
      "30/30 [==============================] - 1s 21ms/step - loss: 0.0195 - accuracy: 0.9974 - val_loss: 0.5247 - val_accuracy: 0.8684\n",
      "Epoch 16/20\n",
      "30/30 [==============================] - 1s 21ms/step - loss: 0.0139 - accuracy: 0.9986 - val_loss: 0.5604 - val_accuracy: 0.8698\n",
      "Epoch 17/20\n",
      "30/30 [==============================] - 1s 21ms/step - loss: 0.0108 - accuracy: 0.9992 - val_loss: 0.5956 - val_accuracy: 0.8695\n",
      "Epoch 18/20\n",
      "30/30 [==============================] - 1s 22ms/step - loss: 0.0085 - accuracy: 0.9993 - val_loss: 0.6275 - val_accuracy: 0.8661\n",
      "Epoch 19/20\n",
      "30/30 [==============================] - 1s 21ms/step - loss: 0.0062 - accuracy: 0.9998 - val_loss: 0.7404 - val_accuracy: 0.8638\n",
      "Epoch 20/20\n",
      "30/30 [==============================] - 1s 20ms/step - loss: 0.0073 - accuracy: 0.9991 - val_loss: 0.6967 - val_accuracy: 0.8654\n",
      "Model: \"sequential\"\n",
      "_________________________________________________________________\n",
      "Layer (type)                 Output Shape              Param #   \n",
      "=================================================================\n",
      "dense (Dense)                (None, 16)                160016    \n",
      "_________________________________________________________________\n",
      "dense_1 (Dense)              (None, 16)                272       \n",
      "_________________________________________________________________\n",
      "dense_2 (Dense)              (None, 1)                 17        \n",
      "=================================================================\n",
      "Total params: 160,305\n",
      "Trainable params: 160,305\n",
      "Non-trainable params: 0\n",
      "_________________________________________________________________\n"
     ]
    }
   ],
   "source": [
    "model = tf.keras.models.Sequential()\n",
    "model.add(tf.keras.layers.Dense(units=16, \n",
    "                                activation = 'relu', \n",
    "                                input_shape = (10000, )))\n",
    "model.add(tf.keras.layers.Dense(units=16, \n",
    "                                activation = 'relu'))\n",
    "model.add(tf.keras.layers.Dense(units=1, \n",
    "                                activation = 'sigmoid'))\n",
    "# Configuring the optimizer\n",
    "model.compile(optimizer = tf.keras.optimizers.RMSprop(lr = 0.001),\n",
    "              loss = tf.keras.losses.binary_crossentropy,\n",
    "              metrics = ['accuracy'],\n",
    "              )\n",
    "\n",
    "#training the model\n",
    "history = model.fit(partial_x_train, \n",
    "                    partial_y_train,\n",
    "                    epochs = 20,\n",
    "                    batch_size = 512,\n",
    "                    validation_data = (x_val, y_val))\n",
    "8\n",
    "\n",
    "# printing the model arcitecture\n",
    "model.summary()"
   ]
  },
  {
   "cell_type": "code",
   "execution_count": 18,
   "id": "exposed-proceeding",
   "metadata": {},
   "outputs": [
    {
     "name": "stdout",
     "output_type": "stream",
     "text": [
      "dict_keys(['loss', 'accuracy', 'val_loss', 'val_accuracy'])\n"
     ]
    }
   ],
   "source": [
    "# Testing the history callback\n",
    "\n",
    "history_dict = history.history\n",
    "print(history_dict.keys())"
   ]
  },
  {
   "cell_type": "code",
   "execution_count": 26,
   "id": "usual-shame",
   "metadata": {},
   "outputs": [
    {
     "name": "stdout",
     "output_type": "stream",
     "text": [
      "Accuracy - 96.66800022125244%\n",
      "Validation Accuracy - 87.53649920225143%\n"
     ]
    }
   ],
   "source": [
    "acc = history_dict.get('accuracy')\n",
    "print(f\"Accuracy - {sum(acc)/len(acc) * 100}%\")\n",
    "\n",
    "val_acc = history_dict.get('val_accuracy')\n",
    "print(f\"Validation Accuracy - {sum(val_acc)/len(val_acc) * 100}%\")"
   ]
  },
  {
   "cell_type": "markdown",
   "id": "completed-shelf",
   "metadata": {},
   "source": [
    "## Plotting training and validation Loss"
   ]
  },
  {
   "cell_type": "code",
   "execution_count": 28,
   "id": "transparent-bracket",
   "metadata": {},
   "outputs": [
    {
     "data": {
      "image/png": "[encoded data removed]",
      "text/plain": [
       "<Figure size 432x288 with 1 Axes>"
      ]
     },
     "metadata": {
      "needs_background": "light"
     },
     "output_type": "display_data"
    }
   ],
   "source": [
    "loss = history_dict.get('loss')\n",
    "val_loss = history_dict.get('val_loss')\n",
    "\n",
    "epochs = range(1, len(loss) + 1)\n",
    "\n",
    "plt.plot(epochs, loss, 'bo', label = 'Training Loss')\n",
    "plt.plot(epochs, val_loss, 'b', label = 'Validation Loss')\n",
    "plt.title('Training Vs Validation Loss')\n",
    "plt.xlabel('Epochs')\n",
    "plt.ylabel('Loss')\n",
    "plt.legend()\n",
    "plt.show()"
   ]
  },
  {
   "cell_type": "markdown",
   "id": "southern-advantage",
   "metadata": {},
   "source": [
    "## Plotting training and validation Accuracy"
   ]
  },
  {
   "cell_type": "code",
   "execution_count": 30,
   "id": "cheap-submission",
   "metadata": {},
   "outputs": [
    {
     "data": {
      "image/png": "[encoded data removed]",
      "text/plain": [
       "<Figure size 432x288 with 1 Axes>"
      ]
     },
     "metadata": {
      "needs_background": "light"
     },
     "output_type": "display_data"
    }
   ],
   "source": [
    "plt.clf() # Clear the figure\n",
    "acc = history_dict.get('accuracy')\n",
    "val_acc = history_dict.get('val_accuracy')\n",
    "\n",
    "epochs = range(1, len(acc) + 1)\n",
    "\n",
    "plt.plot(epochs, acc, 'bo', label = 'Training Accuracy')\n",
    "plt.plot(epochs, val_acc, 'b', label = 'Validation Accuracy')\n",
    "plt.title('Training Vs Validation Accuracy')\n",
    "plt.xlabel('Epochs')\n",
    "plt.ylabel('Accuracy')\n",
    "plt.legend()\n",
    "plt.show()"
   ]
  },
  {
   "cell_type": "code",
   "execution_count": null,
   "id": "juvenile-budget",
   "metadata": {},
   "outputs": [],
   "source": []
  }
 ],
 "metadata": {
  "kernelspec": {
   "display_name": "Python 3",
   "language": "python",
   "name": "python3"
  },
  "language_info": {
   "codemirror_mode": {
    "name": "ipython",
    "version": 3
   },
   "file_extension": ".py",
   "mimetype": "text/x-python",
   "name": "python",
   "nbconvert_exporter": "python",
   "pygments_lexer": "ipython3",
   "version": "3.8.7"
  }
 },
 "nbformat": 4,
 "nbformat_minor": 5
}
