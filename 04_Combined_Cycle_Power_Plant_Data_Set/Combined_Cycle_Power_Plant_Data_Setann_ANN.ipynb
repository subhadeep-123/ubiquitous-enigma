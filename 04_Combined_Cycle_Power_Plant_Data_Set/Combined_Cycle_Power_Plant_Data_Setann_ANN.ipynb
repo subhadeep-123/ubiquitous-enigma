{
  "nbformat": 4,
  "nbformat_minor": 0,
  "metadata": {
    "colab": {
      "name": "Combined_Cycle_Power_Plant_Data_Setann_ANN.ipynb",
      "provenance": [],
      "collapsed_sections": []
    },
    "kernelspec": {
      "name": "python3",
      "display_name": "Python 3"
    },
    "language_info": {
      "name": "python"
    }
  },
  "cells": [
    {
      "cell_type": "markdown",
      "metadata": {
        "id": "xpQstSIxFk5o"
      },
      "source": [
        "Link to the Dataset and Description\n",
        "\n",
        "https://archive.ics.uci.edu/ml/datasets/Combined+Cycle+Power+Plant#"
      ]
    },
    {
      "cell_type": "code",
      "metadata": {
        "colab": {
          "base_uri": "https://localhost:8080/"
        },
        "id": "e6cn5H-ByxIA",
        "outputId": "0e98e873-6162-41e7-c2dc-b1b47bc025de"
      },
      "source": [
        "!wget https://archive.ics.uci.edu/ml/machine-learning-databases/00294/CCPP.zip\n",
        "!unzip *.zip"
      ],
      "execution_count": null,
      "outputs": [
        {
          "output_type": "stream",
          "text": [
            "--2021-05-13 18:24:55--  https://archive.ics.uci.edu/ml/machine-learning-databases/00294/CCPP.zip\n",
            "Resolving archive.ics.uci.edu (archive.ics.uci.edu)... 128.195.10.252\n",
            "Connecting to archive.ics.uci.edu (archive.ics.uci.edu)|128.195.10.252|:443... connected.\n",
            "HTTP request sent, awaiting response... 200 OK\n",
            "Length: 3674852 (3.5M) [application/x-httpd-php]\n",
            "Saving to: ‘CCPP.zip’\n",
            "\n",
            "CCPP.zip            100%[===================>]   3.50M  8.37MB/s    in 0.4s    \n",
            "\n",
            "2021-05-13 18:24:56 (8.37 MB/s) - ‘CCPP.zip’ saved [3674852/3674852]\n",
            "\n",
            "Archive:  CCPP.zip\n",
            "   creating: CCPP/\n",
            "  inflating: CCPP/Folds5x2_pp.ods    \n",
            "  inflating: CCPP/Folds5x2_pp.xlsx   \n",
            "  inflating: CCPP/Readme.txt         \n",
            "  inflating: CCPP/Readme.txt~        \n"
          ],
          "name": "stdout"
        }
      ]
    },
    {
      "cell_type": "code",
      "metadata": {
        "colab": {
          "base_uri": "https://localhost:8080/"
        },
        "id": "tW5HiUaIzF_G",
        "outputId": "f7f50baa-7165-4731-b8fc-3129f8b40bcc"
      },
      "source": [
        "!ls\n",
        "%cd CCPP "
      ],
      "execution_count": null,
      "outputs": [
        {
          "output_type": "stream",
          "text": [
            "CCPP  CCPP.zip\tsample_data\n",
            "/content/CCPP\n"
          ],
          "name": "stdout"
        }
      ]
    },
    {
      "cell_type": "code",
      "metadata": {
        "colab": {
          "base_uri": "https://localhost:8080/",
          "height": 35
        },
        "id": "BPQNK9yvzz6P",
        "outputId": "c43e136d-51f5-466f-ef8d-1ec73f820b72"
      },
      "source": [
        "%pwd"
      ],
      "execution_count": null,
      "outputs": [
        {
          "output_type": "execute_result",
          "data": {
            "application/vnd.google.colaboratory.intrinsic+json": {
              "type": "string"
            },
            "text/plain": [
              "'/content/CCPP'"
            ]
          },
          "metadata": {
            "tags": []
          },
          "execution_count": 3
        }
      ]
    },
    {
      "cell_type": "markdown",
      "metadata": {
        "id": "ztUnZkLp0nxL"
      },
      "source": [
        "### Importing the libraries"
      ]
    },
    {
      "cell_type": "code",
      "metadata": {
        "id": "dD3Abk1wz272"
      },
      "source": [
        "import numpy as np\n",
        "import pandas as pd\n",
        "import matplotlib.pyplot as plt\n",
        "import tensorflow as tf\n",
        "from sklearn.model_selection import train_test_split\n",
        "from sklearn.metrics import mean_squared_error, r2_score"
      ],
      "execution_count": null,
      "outputs": []
    },
    {
      "cell_type": "code",
      "metadata": {
        "colab": {
          "base_uri": "https://localhost:8080/",
          "height": 35
        },
        "id": "oD6IcidB0t02",
        "outputId": "73e63824-fd51-485b-a3e3-002397d9d890"
      },
      "source": [
        "tf.__version__"
      ],
      "execution_count": null,
      "outputs": [
        {
          "output_type": "execute_result",
          "data": {
            "application/vnd.google.colaboratory.intrinsic+json": {
              "type": "string"
            },
            "text/plain": [
              "'2.4.1'"
            ]
          },
          "metadata": {
            "tags": []
          },
          "execution_count": 5
        }
      ]
    },
    {
      "cell_type": "markdown",
      "metadata": {
        "id": "Fk-up9Vz0sk0"
      },
      "source": [
        "## Part 1 - Data Preprocessing"
      ]
    },
    {
      "cell_type": "markdown",
      "metadata": {
        "id": "o1HKGwZ104eR"
      },
      "source": [
        "### Importing the dataset"
      ]
    },
    {
      "cell_type": "code",
      "metadata": {
        "colab": {
          "base_uri": "https://localhost:8080/"
        },
        "id": "ElqSVnT30GMk",
        "outputId": "fb6b7bc6-9240-4434-8070-899a425a3f78"
      },
      "source": [
        "df = pd.read_excel('Folds5x2_pp.xlsx')\n",
        "print(f\"The shape of the dataset is - {df.shape}\")"
      ],
      "execution_count": null,
      "outputs": [
        {
          "output_type": "stream",
          "text": [
            "The shape of the dataset is - (9568, 5)\n"
          ],
          "name": "stdout"
        }
      ]
    },
    {
      "cell_type": "code",
      "metadata": {
        "colab": {
          "base_uri": "https://localhost:8080/",
          "height": 197
        },
        "id": "z1zpu7eW0Wkc",
        "outputId": "6f4b3b72-142f-4467-ead6-9b266179805b"
      },
      "source": [
        "df.head()"
      ],
      "execution_count": null,
      "outputs": [
        {
          "output_type": "execute_result",
          "data": {
            "text/html": [
              "<div>\n",
              "<style scoped>\n",
              "    .dataframe tbody tr th:only-of-type {\n",
              "        vertical-align: middle;\n",
              "    }\n",
              "\n",
              "    .dataframe tbody tr th {\n",
              "        vertical-align: top;\n",
              "    }\n",
              "\n",
              "    .dataframe thead th {\n",
              "        text-align: right;\n",
              "    }\n",
              "</style>\n",
              "<table border=\"1\" class=\"dataframe\">\n",
              "  <thead>\n",
              "    <tr style=\"text-align: right;\">\n",
              "      <th></th>\n",
              "      <th>AT</th>\n",
              "      <th>V</th>\n",
              "      <th>AP</th>\n",
              "      <th>RH</th>\n",
              "      <th>PE</th>\n",
              "    </tr>\n",
              "  </thead>\n",
              "  <tbody>\n",
              "    <tr>\n",
              "      <th>0</th>\n",
              "      <td>14.96</td>\n",
              "      <td>41.76</td>\n",
              "      <td>1024.07</td>\n",
              "      <td>73.17</td>\n",
              "      <td>463.26</td>\n",
              "    </tr>\n",
              "    <tr>\n",
              "      <th>1</th>\n",
              "      <td>25.18</td>\n",
              "      <td>62.96</td>\n",
              "      <td>1020.04</td>\n",
              "      <td>59.08</td>\n",
              "      <td>444.37</td>\n",
              "    </tr>\n",
              "    <tr>\n",
              "      <th>2</th>\n",
              "      <td>5.11</td>\n",
              "      <td>39.40</td>\n",
              "      <td>1012.16</td>\n",
              "      <td>92.14</td>\n",
              "      <td>488.56</td>\n",
              "    </tr>\n",
              "    <tr>\n",
              "      <th>3</th>\n",
              "      <td>20.86</td>\n",
              "      <td>57.32</td>\n",
              "      <td>1010.24</td>\n",
              "      <td>76.64</td>\n",
              "      <td>446.48</td>\n",
              "    </tr>\n",
              "    <tr>\n",
              "      <th>4</th>\n",
              "      <td>10.82</td>\n",
              "      <td>37.50</td>\n",
              "      <td>1009.23</td>\n",
              "      <td>96.62</td>\n",
              "      <td>473.90</td>\n",
              "    </tr>\n",
              "  </tbody>\n",
              "</table>\n",
              "</div>"
            ],
            "text/plain": [
              "      AT      V       AP     RH      PE\n",
              "0  14.96  41.76  1024.07  73.17  463.26\n",
              "1  25.18  62.96  1020.04  59.08  444.37\n",
              "2   5.11  39.40  1012.16  92.14  488.56\n",
              "3  20.86  57.32  1010.24  76.64  446.48\n",
              "4  10.82  37.50  1009.23  96.62  473.90"
            ]
          },
          "metadata": {
            "tags": []
          },
          "execution_count": 7
        }
      ]
    },
    {
      "cell_type": "code",
      "metadata": {
        "colab": {
          "base_uri": "https://localhost:8080/"
        },
        "id": "URhpH4z90Zre",
        "outputId": "cbea49a9-4bb6-450a-b191-62dd361f7a70"
      },
      "source": [
        "df.info()"
      ],
      "execution_count": null,
      "outputs": [
        {
          "output_type": "stream",
          "text": [
            "<class 'pandas.core.frame.DataFrame'>\n",
            "RangeIndex: 9568 entries, 0 to 9567\n",
            "Data columns (total 5 columns):\n",
            " #   Column  Non-Null Count  Dtype  \n",
            "---  ------  --------------  -----  \n",
            " 0   AT      9568 non-null   float64\n",
            " 1   V       9568 non-null   float64\n",
            " 2   AP      9568 non-null   float64\n",
            " 3   RH      9568 non-null   float64\n",
            " 4   PE      9568 non-null   float64\n",
            "dtypes: float64(5)\n",
            "memory usage: 373.9 KB\n"
          ],
          "name": "stdout"
        }
      ]
    },
    {
      "cell_type": "code",
      "metadata": {
        "colab": {
          "base_uri": "https://localhost:8080/",
          "height": 287
        },
        "id": "PSZyY1MQ0bz_",
        "outputId": "7b410a0e-39e2-48df-c4c7-85102d0120e5"
      },
      "source": [
        "df.describe()"
      ],
      "execution_count": null,
      "outputs": [
        {
          "output_type": "execute_result",
          "data": {
            "text/html": [
              "<div>\n",
              "<style scoped>\n",
              "    .dataframe tbody tr th:only-of-type {\n",
              "        vertical-align: middle;\n",
              "    }\n",
              "\n",
              "    .dataframe tbody tr th {\n",
              "        vertical-align: top;\n",
              "    }\n",
              "\n",
              "    .dataframe thead th {\n",
              "        text-align: right;\n",
              "    }\n",
              "</style>\n",
              "<table border=\"1\" class=\"dataframe\">\n",
              "  <thead>\n",
              "    <tr style=\"text-align: right;\">\n",
              "      <th></th>\n",
              "      <th>AT</th>\n",
              "      <th>V</th>\n",
              "      <th>AP</th>\n",
              "      <th>RH</th>\n",
              "      <th>PE</th>\n",
              "    </tr>\n",
              "  </thead>\n",
              "  <tbody>\n",
              "    <tr>\n",
              "      <th>count</th>\n",
              "      <td>9568.000000</td>\n",
              "      <td>9568.000000</td>\n",
              "      <td>9568.000000</td>\n",
              "      <td>9568.000000</td>\n",
              "      <td>9568.000000</td>\n",
              "    </tr>\n",
              "    <tr>\n",
              "      <th>mean</th>\n",
              "      <td>19.651231</td>\n",
              "      <td>54.305804</td>\n",
              "      <td>1013.259078</td>\n",
              "      <td>73.308978</td>\n",
              "      <td>454.365009</td>\n",
              "    </tr>\n",
              "    <tr>\n",
              "      <th>std</th>\n",
              "      <td>7.452473</td>\n",
              "      <td>12.707893</td>\n",
              "      <td>5.938784</td>\n",
              "      <td>14.600269</td>\n",
              "      <td>17.066995</td>\n",
              "    </tr>\n",
              "    <tr>\n",
              "      <th>min</th>\n",
              "      <td>1.810000</td>\n",
              "      <td>25.360000</td>\n",
              "      <td>992.890000</td>\n",
              "      <td>25.560000</td>\n",
              "      <td>420.260000</td>\n",
              "    </tr>\n",
              "    <tr>\n",
              "      <th>25%</th>\n",
              "      <td>13.510000</td>\n",
              "      <td>41.740000</td>\n",
              "      <td>1009.100000</td>\n",
              "      <td>63.327500</td>\n",
              "      <td>439.750000</td>\n",
              "    </tr>\n",
              "    <tr>\n",
              "      <th>50%</th>\n",
              "      <td>20.345000</td>\n",
              "      <td>52.080000</td>\n",
              "      <td>1012.940000</td>\n",
              "      <td>74.975000</td>\n",
              "      <td>451.550000</td>\n",
              "    </tr>\n",
              "    <tr>\n",
              "      <th>75%</th>\n",
              "      <td>25.720000</td>\n",
              "      <td>66.540000</td>\n",
              "      <td>1017.260000</td>\n",
              "      <td>84.830000</td>\n",
              "      <td>468.430000</td>\n",
              "    </tr>\n",
              "    <tr>\n",
              "      <th>max</th>\n",
              "      <td>37.110000</td>\n",
              "      <td>81.560000</td>\n",
              "      <td>1033.300000</td>\n",
              "      <td>100.160000</td>\n",
              "      <td>495.760000</td>\n",
              "    </tr>\n",
              "  </tbody>\n",
              "</table>\n",
              "</div>"
            ],
            "text/plain": [
              "                AT            V           AP           RH           PE\n",
              "count  9568.000000  9568.000000  9568.000000  9568.000000  9568.000000\n",
              "mean     19.651231    54.305804  1013.259078    73.308978   454.365009\n",
              "std       7.452473    12.707893     5.938784    14.600269    17.066995\n",
              "min       1.810000    25.360000   992.890000    25.560000   420.260000\n",
              "25%      13.510000    41.740000  1009.100000    63.327500   439.750000\n",
              "50%      20.345000    52.080000  1012.940000    74.975000   451.550000\n",
              "75%      25.720000    66.540000  1017.260000    84.830000   468.430000\n",
              "max      37.110000    81.560000  1033.300000   100.160000   495.760000"
            ]
          },
          "metadata": {
            "tags": []
          },
          "execution_count": 9
        }
      ]
    },
    {
      "cell_type": "code",
      "metadata": {
        "id": "ZU1_S-H40hzU"
      },
      "source": [
        "X = df.iloc[:, :-1].values\n",
        "Y = df.iloc[:, -1].values"
      ],
      "execution_count": null,
      "outputs": []
    },
    {
      "cell_type": "code",
      "metadata": {
        "colab": {
          "base_uri": "https://localhost:8080/"
        },
        "id": "sdQD0ZCZ2KfP",
        "outputId": "fa6e0c8a-8101-40c6-8922-2ad0d5c9484e"
      },
      "source": [
        "print(X)"
      ],
      "execution_count": null,
      "outputs": [
        {
          "output_type": "stream",
          "text": [
            "[[  14.96   41.76 1024.07   73.17]\n",
            " [  25.18   62.96 1020.04   59.08]\n",
            " [   5.11   39.4  1012.16   92.14]\n",
            " ...\n",
            " [  31.32   74.33 1012.92   36.48]\n",
            " [  24.48   69.45 1013.86   62.39]\n",
            " [  21.6    62.52 1017.23   67.87]]\n"
          ],
          "name": "stdout"
        }
      ]
    },
    {
      "cell_type": "code",
      "metadata": {
        "colab": {
          "base_uri": "https://localhost:8080/"
        },
        "id": "MrtScOGd2LNP",
        "outputId": "e122b14f-0500-47ce-86c4-494239b3679a"
      },
      "source": [
        "print(Y)"
      ],
      "execution_count": null,
      "outputs": [
        {
          "output_type": "stream",
          "text": [
            "[463.26 444.37 488.56 ... 429.57 435.74 453.28]\n"
          ],
          "name": "stdout"
        }
      ]
    },
    {
      "cell_type": "markdown",
      "metadata": {
        "id": "RAltDC_62g4N"
      },
      "source": [
        "### Splitting the dataset into the Training set and Test set"
      ]
    },
    {
      "cell_type": "code",
      "metadata": {
        "colab": {
          "base_uri": "https://localhost:8080/"
        },
        "id": "mX58WG4D2NTc",
        "outputId": "5dac5257-8907-41d3-91b8-ab88b43af92b"
      },
      "source": [
        "X_train, X_test, Y_train, Y_test = train_test_split(X,\n",
        "                                                    Y,\n",
        "                                                    test_size = 0.2,\n",
        "                                                    random_state = 42)\n",
        "print(f\"Size of X_train : {X_train.shape}\")\n",
        "print(f\"Size of Y_train : {Y_train.shape}\")\n",
        "print(f\"Size of X_test : {X_test.shape}\")\n",
        "print(f\"Size of Y_test : {Y_test.shape}\")"
      ],
      "execution_count": null,
      "outputs": [
        {
          "output_type": "stream",
          "text": [
            "Size of X_train : (7654, 4)\n",
            "Size of Y_train : (7654,)\n",
            "Size of X_test : (1914, 4)\n",
            "Size of Y_test : (1914,)\n"
          ],
          "name": "stdout"
        }
      ]
    },
    {
      "cell_type": "markdown",
      "metadata": {
        "id": "xAw_ewT94nbE"
      },
      "source": [
        "## Part 2 - Building the ANN\n",
        "\n",
        "### Initializing the ANN"
      ]
    },
    {
      "cell_type": "code",
      "metadata": {
        "colab": {
          "base_uri": "https://localhost:8080/"
        },
        "id": "IR-n3xzO3dn9",
        "outputId": "e22f3935-e8d2-45e3-e5ac-8e0fe3264163"
      },
      "source": [
        "model = tf.keras.models.Sequential()\n",
        "model.add(tf.keras.layers.Dense(units=6, activation='relu'))\n",
        "model.add(tf.keras.layers.Dense(units=6, activation='relu'))\n",
        "model.add(tf.keras.layers.Dense(units=1))\n",
        "model.compile(optimizer='adam', loss= 'mean_squared_error')\n",
        "model.fit(X_train,Y_train,batch_size=32, epochs=100)\n",
        "model.summary()"
      ],
      "execution_count": null,
      "outputs": [
        {
          "output_type": "stream",
          "text": [
            "Epoch 1/100\n",
            "240/240 [==============================] - 1s 2ms/step - loss: 2119.2371\n",
            "Epoch 2/100\n",
            "240/240 [==============================] - 0s 2ms/step - loss: 122.0659\n",
            "Epoch 3/100\n",
            "240/240 [==============================] - 0s 2ms/step - loss: 104.6216\n",
            "Epoch 4/100\n",
            "240/240 [==============================] - 0s 2ms/step - loss: 86.0242\n",
            "Epoch 5/100\n",
            "240/240 [==============================] - 0s 2ms/step - loss: 74.5182\n",
            "Epoch 6/100\n",
            "240/240 [==============================] - 0s 2ms/step - loss: 60.2374\n",
            "Epoch 7/100\n",
            "240/240 [==============================] - 0s 1ms/step - loss: 54.8020\n",
            "Epoch 8/100\n",
            "240/240 [==============================] - 0s 2ms/step - loss: 48.8754\n",
            "Epoch 9/100\n",
            "240/240 [==============================] - 0s 2ms/step - loss: 43.2644\n",
            "Epoch 10/100\n",
            "240/240 [==============================] - 0s 1ms/step - loss: 41.4313\n",
            "Epoch 11/100\n",
            "240/240 [==============================] - 0s 2ms/step - loss: 37.8321\n",
            "Epoch 12/100\n",
            "240/240 [==============================] - 0s 2ms/step - loss: 35.9423\n",
            "Epoch 13/100\n",
            "240/240 [==============================] - 0s 2ms/step - loss: 36.2507\n",
            "Epoch 14/100\n",
            "240/240 [==============================] - 0s 2ms/step - loss: 33.6255\n",
            "Epoch 15/100\n",
            "240/240 [==============================] - 0s 1ms/step - loss: 32.8561\n",
            "Epoch 16/100\n",
            "240/240 [==============================] - 0s 2ms/step - loss: 33.7771\n",
            "Epoch 17/100\n",
            "240/240 [==============================] - 0s 1ms/step - loss: 33.6968\n",
            "Epoch 18/100\n",
            "240/240 [==============================] - 0s 2ms/step - loss: 32.1165\n",
            "Epoch 19/100\n",
            "240/240 [==============================] - 0s 2ms/step - loss: 31.2973\n",
            "Epoch 20/100\n",
            "240/240 [==============================] - 0s 1ms/step - loss: 29.9345\n",
            "Epoch 21/100\n",
            "240/240 [==============================] - 0s 2ms/step - loss: 29.5688\n",
            "Epoch 22/100\n",
            "240/240 [==============================] - 0s 2ms/step - loss: 29.4448\n",
            "Epoch 23/100\n",
            "240/240 [==============================] - 0s 2ms/step - loss: 28.1740\n",
            "Epoch 24/100\n",
            "240/240 [==============================] - 0s 1ms/step - loss: 28.0455\n",
            "Epoch 25/100\n",
            "240/240 [==============================] - 0s 2ms/step - loss: 29.2816\n",
            "Epoch 26/100\n",
            "240/240 [==============================] - 0s 1ms/step - loss: 27.5012\n",
            "Epoch 27/100\n",
            "240/240 [==============================] - 0s 1ms/step - loss: 27.4002\n",
            "Epoch 28/100\n",
            "240/240 [==============================] - 0s 1ms/step - loss: 29.1142\n",
            "Epoch 29/100\n",
            "240/240 [==============================] - 0s 1ms/step - loss: 28.1250\n",
            "Epoch 30/100\n",
            "240/240 [==============================] - 0s 2ms/step - loss: 26.7435\n",
            "Epoch 31/100\n",
            "240/240 [==============================] - 0s 1ms/step - loss: 27.6557\n",
            "Epoch 32/100\n",
            "240/240 [==============================] - 0s 1ms/step - loss: 27.1485\n",
            "Epoch 33/100\n",
            "240/240 [==============================] - 0s 1ms/step - loss: 25.6034\n",
            "Epoch 34/100\n",
            "240/240 [==============================] - 0s 1ms/step - loss: 26.3785\n",
            "Epoch 35/100\n",
            "240/240 [==============================] - 0s 1ms/step - loss: 27.4675\n",
            "Epoch 36/100\n",
            "240/240 [==============================] - 0s 1ms/step - loss: 26.3151\n",
            "Epoch 37/100\n",
            "240/240 [==============================] - 0s 1ms/step - loss: 27.7806\n",
            "Epoch 38/100\n",
            "240/240 [==============================] - 0s 1ms/step - loss: 26.5427\n",
            "Epoch 39/100\n",
            "240/240 [==============================] - 0s 2ms/step - loss: 27.4566\n",
            "Epoch 40/100\n",
            "240/240 [==============================] - 0s 2ms/step - loss: 27.4329\n",
            "Epoch 41/100\n",
            "240/240 [==============================] - 0s 2ms/step - loss: 29.7555\n",
            "Epoch 42/100\n",
            "240/240 [==============================] - 0s 2ms/step - loss: 26.0926\n",
            "Epoch 43/100\n",
            "240/240 [==============================] - 0s 2ms/step - loss: 26.6333\n",
            "Epoch 44/100\n",
            "240/240 [==============================] - 0s 1ms/step - loss: 26.6199\n",
            "Epoch 45/100\n",
            "240/240 [==============================] - 0s 1ms/step - loss: 27.1834\n",
            "Epoch 46/100\n",
            "240/240 [==============================] - 0s 1ms/step - loss: 27.0976\n",
            "Epoch 47/100\n",
            "240/240 [==============================] - 0s 1ms/step - loss: 26.0773\n",
            "Epoch 48/100\n",
            "240/240 [==============================] - 0s 1ms/step - loss: 26.7539\n",
            "Epoch 49/100\n",
            "240/240 [==============================] - 0s 1ms/step - loss: 27.1108\n",
            "Epoch 50/100\n",
            "240/240 [==============================] - 0s 2ms/step - loss: 26.5554\n",
            "Epoch 51/100\n",
            "240/240 [==============================] - 0s 1ms/step - loss: 26.4391\n",
            "Epoch 52/100\n",
            "240/240 [==============================] - 0s 1ms/step - loss: 27.7485\n",
            "Epoch 53/100\n",
            "240/240 [==============================] - 0s 1ms/step - loss: 27.8956\n",
            "Epoch 54/100\n",
            "240/240 [==============================] - 0s 2ms/step - loss: 25.2939\n",
            "Epoch 55/100\n",
            "240/240 [==============================] - 0s 1ms/step - loss: 26.0270\n",
            "Epoch 56/100\n",
            "240/240 [==============================] - 0s 1ms/step - loss: 27.8727\n",
            "Epoch 57/100\n",
            "240/240 [==============================] - 0s 1ms/step - loss: 27.3261\n",
            "Epoch 58/100\n",
            "240/240 [==============================] - 0s 1ms/step - loss: 27.1770\n",
            "Epoch 59/100\n",
            "240/240 [==============================] - 0s 1ms/step - loss: 26.7290\n",
            "Epoch 60/100\n",
            "240/240 [==============================] - 0s 1ms/step - loss: 26.9009\n",
            "Epoch 61/100\n",
            "240/240 [==============================] - 0s 1ms/step - loss: 27.2542\n",
            "Epoch 62/100\n",
            "240/240 [==============================] - 0s 1ms/step - loss: 26.1541\n",
            "Epoch 63/100\n",
            "240/240 [==============================] - 0s 1ms/step - loss: 27.0549\n",
            "Epoch 64/100\n",
            "240/240 [==============================] - 0s 2ms/step - loss: 26.0232\n",
            "Epoch 65/100\n",
            "240/240 [==============================] - 0s 2ms/step - loss: 25.7572\n",
            "Epoch 66/100\n",
            "240/240 [==============================] - 0s 2ms/step - loss: 27.0102\n",
            "Epoch 67/100\n",
            "240/240 [==============================] - 0s 2ms/step - loss: 26.4790\n",
            "Epoch 68/100\n",
            "240/240 [==============================] - 0s 2ms/step - loss: 25.8729\n",
            "Epoch 69/100\n",
            "240/240 [==============================] - 0s 1ms/step - loss: 28.0292\n",
            "Epoch 70/100\n",
            "240/240 [==============================] - 0s 1ms/step - loss: 26.0515\n",
            "Epoch 71/100\n",
            "240/240 [==============================] - 0s 1ms/step - loss: 26.1309\n",
            "Epoch 72/100\n",
            "240/240 [==============================] - 0s 2ms/step - loss: 26.5216\n",
            "Epoch 73/100\n",
            "240/240 [==============================] - 0s 1ms/step - loss: 27.0840\n",
            "Epoch 74/100\n",
            "240/240 [==============================] - 0s 1ms/step - loss: 25.8813\n",
            "Epoch 75/100\n",
            "240/240 [==============================] - 0s 1ms/step - loss: 27.3865\n",
            "Epoch 76/100\n",
            "240/240 [==============================] - 0s 1ms/step - loss: 28.4115\n",
            "Epoch 77/100\n",
            "240/240 [==============================] - 0s 2ms/step - loss: 26.9865\n",
            "Epoch 78/100\n",
            "240/240 [==============================] - 0s 2ms/step - loss: 27.0558\n",
            "Epoch 79/100\n",
            "240/240 [==============================] - 0s 1ms/step - loss: 26.5851\n",
            "Epoch 80/100\n",
            "240/240 [==============================] - 0s 2ms/step - loss: 25.8914\n",
            "Epoch 81/100\n",
            "240/240 [==============================] - 0s 1ms/step - loss: 26.0799\n",
            "Epoch 82/100\n",
            "240/240 [==============================] - 0s 1ms/step - loss: 25.9515\n",
            "Epoch 83/100\n",
            "240/240 [==============================] - 0s 1ms/step - loss: 26.5825\n",
            "Epoch 84/100\n",
            "240/240 [==============================] - 0s 2ms/step - loss: 26.5960\n",
            "Epoch 85/100\n",
            "240/240 [==============================] - 0s 1ms/step - loss: 26.5285\n",
            "Epoch 86/100\n",
            "240/240 [==============================] - 0s 1ms/step - loss: 27.1001\n",
            "Epoch 87/100\n",
            "240/240 [==============================] - 0s 2ms/step - loss: 26.6643\n",
            "Epoch 88/100\n",
            "240/240 [==============================] - 0s 1ms/step - loss: 26.1282\n",
            "Epoch 89/100\n",
            "240/240 [==============================] - 0s 1ms/step - loss: 28.0524\n",
            "Epoch 90/100\n",
            "240/240 [==============================] - 0s 1ms/step - loss: 27.5134\n",
            "Epoch 91/100\n",
            "240/240 [==============================] - 0s 1ms/step - loss: 28.8854\n",
            "Epoch 92/100\n",
            "240/240 [==============================] - 0s 1ms/step - loss: 26.3124\n",
            "Epoch 93/100\n",
            "240/240 [==============================] - 0s 1ms/step - loss: 27.5303\n",
            "Epoch 94/100\n",
            "240/240 [==============================] - 0s 1ms/step - loss: 26.9363\n",
            "Epoch 95/100\n",
            "240/240 [==============================] - 0s 2ms/step - loss: 25.3261\n",
            "Epoch 96/100\n",
            "240/240 [==============================] - 0s 1ms/step - loss: 27.4286\n",
            "Epoch 97/100\n",
            "240/240 [==============================] - 0s 1ms/step - loss: 27.4466\n",
            "Epoch 98/100\n",
            "240/240 [==============================] - 0s 1ms/step - loss: 26.0231\n",
            "Epoch 99/100\n",
            "240/240 [==============================] - 0s 1ms/step - loss: 27.2737\n",
            "Epoch 100/100\n",
            "240/240 [==============================] - 0s 1ms/step - loss: 26.6966\n",
            "Model: \"sequential\"\n",
            "_________________________________________________________________\n",
            "Layer (type)                 Output Shape              Param #   \n",
            "=================================================================\n",
            "dense (Dense)                (None, 6)                 30        \n",
            "_________________________________________________________________\n",
            "dense_1 (Dense)              (None, 6)                 42        \n",
            "_________________________________________________________________\n",
            "dense_2 (Dense)              (None, 1)                 7         \n",
            "=================================================================\n",
            "Total params: 79\n",
            "Trainable params: 79\n",
            "Non-trainable params: 0\n",
            "_________________________________________________________________\n"
          ],
          "name": "stdout"
        }
      ]
    },
    {
      "cell_type": "code",
      "metadata": {
        "id": "GoJJDN4R51w6"
      },
      "source": [
        "Y_pred = model.predict(X_test)"
      ],
      "execution_count": null,
      "outputs": []
    },
    {
      "cell_type": "code",
      "metadata": {
        "colab": {
          "base_uri": "https://localhost:8080/"
        },
        "id": "_89RWITT_psx",
        "outputId": "ba826c32-3489-46c8-fcc2-6b0018034a46"
      },
      "source": [
        "np.set_printoptions(precision=2)\n",
        "print(np.concatenate((Y_pred.reshape(len(Y_pred), 1), Y_test.reshape(len(Y_test), 1)), 1))"
      ],
      "execution_count": null,
      "outputs": [
        {
          "output_type": "stream",
          "text": [
            "[[455.49 455.27]\n",
            " [437.64 436.31]\n",
            " [432.48 440.68]\n",
            " ...\n",
            " [480.05 479.53]\n",
            " [434.59 435.76]\n",
            " [458.74 457.1 ]]\n"
          ],
          "name": "stdout"
        }
      ]
    },
    {
      "cell_type": "code",
      "metadata": {
        "colab": {
          "base_uri": "https://localhost:8080/"
        },
        "id": "e7jnuZ2y_rMF",
        "outputId": "fc654f30-34ab-41dc-e7e8-ad784cf48837"
      },
      "source": [
        "print(\"The Mean Squared Error is: %.2f\" % mean_squared_error(Y_test, Y_pred))\n",
        "print(\"Variance Score: %.2f\" % r2_score(Y_test, Y_pred))"
      ],
      "execution_count": null,
      "outputs": [
        {
          "output_type": "stream",
          "text": [
            "The Mean Squared Error is: 26.13\n",
            "Variance Score: 0.91\n"
          ],
          "name": "stdout"
        }
      ]
    }
  ]
}